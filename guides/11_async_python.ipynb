{
 "cells": [
  {
   "cell_type": "markdown",
   "id": "5c291475-8c7c-461c-9b12-545a887b2432",
   "metadata": {},
   "source": [
    "# Async Python\n",
    "\n",
    "## A briefing on asynchronous python coding, essential in Agent engineering"
   ]
  },
  {
   "cell_type": "markdown",
   "id": "538fa044",
   "metadata": {},
   "source": [
    "Here is a masterful tutorial by you-know-who with exercises and comparisons.\n",
    "\n",
    "https://chatgpt.com/share/680648b1-b0a0-8012-8449-4f90b540886c\n",
    "\n",
    "This includes how to run async code from a python module.\n",
    "\n",
    "### And now some examples:"
   ]
  },
  {
   "cell_type": "code",
   "execution_count": 16,
   "id": "09f5662a",
   "metadata": {},
   "outputs": [],
   "source": [
    "# Let's define an async function\n",
    "\n",
    "import asyncio\n",
    "\n",
    "async def do_some_work(task_name):\n",
    "    print(f\"Starting work for {task_name}\")\n",
    "    await asyncio.sleep(5)\n",
    "    print(f\"Work complete for {task_name}\")\n"
   ]
  },
  {
   "cell_type": "code",
   "execution_count": 17,
   "id": "07ab3abf",
   "metadata": {},
   "outputs": [
    {
     "data": {
      "text/plain": [
       "<coroutine object do_some_work at 0x780bd80ef9f0>"
      ]
     },
     "execution_count": 17,
     "metadata": {},
     "output_type": "execute_result"
    }
   ],
   "source": [
    "# What will this do?\n",
    "\n",
    "do_some_work(\"Broken_task\")"
   ]
  },
  {
   "cell_type": "code",
   "execution_count": 18,
   "id": "6d681b6d",
   "metadata": {},
   "outputs": [
    {
     "name": "stdout",
     "output_type": "stream",
     "text": [
      "Starting work for Await_1\n",
      "Work complete for Await_1\n"
     ]
    }
   ],
   "source": [
    "# OK let's try that again!\n",
    "\n",
    "await do_some_work(\"Await_1\")"
   ]
  },
  {
   "cell_type": "code",
   "execution_count": 19,
   "id": "ea867090",
   "metadata": {},
   "outputs": [
    {
     "name": "stderr",
     "output_type": "stream",
     "text": [
      "/tmp/ipykernel_416943/2720275673.py:4: RuntimeWarning: coroutine 'do_some_work' was never awaited\n",
      "  do_some_work(\"Await_1\")\n",
      "RuntimeWarning: Enable tracemalloc to get the object allocation traceback\n",
      "/tmp/ipykernel_416943/2720275673.py:5: RuntimeWarning: coroutine 'do_some_work' was never awaited\n",
      "  do_some_work(\"Await_2\")\n",
      "RuntimeWarning: Enable tracemalloc to get the object allocation traceback\n",
      "/tmp/ipykernel_416943/2720275673.py:6: RuntimeWarning: coroutine 'do_some_work' was never awaited\n",
      "  do_some_work(\"Await_3\")\n",
      "RuntimeWarning: Enable tracemalloc to get the object allocation traceback\n"
     ]
    }
   ],
   "source": [
    "# What's wrong with this?\n",
    "\n",
    "async def do_a_lot_of_work():\n",
    "    do_some_work(\"Await_1\")\n",
    "    do_some_work(\"Await_2\")\n",
    "    do_some_work(\"Await_3\")\n",
    "\n",
    "await do_a_lot_of_work()"
   ]
  },
  {
   "cell_type": "code",
   "execution_count": 20,
   "id": "e9c75c3f",
   "metadata": {},
   "outputs": [
    {
     "name": "stdout",
     "output_type": "stream",
     "text": [
      "Starting work for Await_1\n",
      "Work complete for Await_1\n",
      "Starting work for Await_2\n",
      "Work complete for Await_2\n",
      "Starting work for Await_3\n",
      "Work complete for Await_3\n"
     ]
    }
   ],
   "source": [
    "# Interesting warning! Let's fix it\n",
    "\n",
    "async def do_a_lot_of_work():\n",
    "    await do_some_work(\"Await_1\")\n",
    "    await do_some_work(\"Await_2\")\n",
    "    await do_some_work(\"Await_3\")\n",
    "\n",
    "await do_a_lot_of_work()"
   ]
  },
  {
   "cell_type": "code",
   "execution_count": 21,
   "id": "720cf3f5",
   "metadata": {},
   "outputs": [
    {
     "name": "stdout",
     "output_type": "stream",
     "text": [
      "Starting work for Await_1\n",
      "Starting work for Await_2\n",
      "Starting work for Await_3\n",
      "Work complete for Await_1\n",
      "Work complete for Await_2\n",
      "Work complete for Await_3\n"
     ]
    }
   ],
   "source": [
    "# And now let's do it in parallel\n",
    "# It's important to recognize that this is not \"multi-threading\" in the way that you may be used to\n",
    "# The asyncio library is running on a single thread, but it's using a loop to switch between tasks while one is waiting\n",
    "\n",
    "async def do_a_lot_of_work_in_parallel():\n",
    "    await asyncio.gather(do_some_work(\"Await_1\"), do_some_work(\"Await_2\"), do_some_work(\"Await_3\"))\n",
    "\n",
    "await do_a_lot_of_work_in_parallel()"
   ]
  },
  {
   "cell_type": "markdown",
   "id": "230f85de",
   "metadata": {},
   "source": [
    "### Finally - try writing a python module that calls do_a_lot_of_work_in_parallel\n",
    "\n",
    "See the link at the top; you'll need something like this in your module:\n",
    "\n",
    "```python\n",
    "if __name__ == \"__main__\":\n",
    "    asyncio.run(do_a_lot_of_work_in_parallel())\n",
    "```"
   ]
  }
 ],
 "metadata": {
  "kernelspec": {
   "display_name": ".venv",
   "language": "python",
   "name": "python3"
  },
  "language_info": {
   "codemirror_mode": {
    "name": "ipython",
    "version": 3
   },
   "file_extension": ".py",
   "mimetype": "text/x-python",
   "name": "python",
   "nbconvert_exporter": "python",
   "pygments_lexer": "ipython3",
   "version": "3.12.3"
  }
 },
 "nbformat": 4,
 "nbformat_minor": 5
}
