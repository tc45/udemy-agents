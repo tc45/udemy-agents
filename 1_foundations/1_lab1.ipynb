{
 "cells": [
  {
   "cell_type": "markdown",
   "metadata": {},
   "source": [
    "# Welcome to the start of your adventure in Agentic AI"
   ]
  },
  {
   "cell_type": "markdown",
   "metadata": {},
   "source": [
    "<table style=\"margin: 0; text-align: left; width:100%\">\n",
    "    <tr>\n",
    "        <td style=\"width: 150px; height: 150px; vertical-align: middle;\">\n",
    "            <img src=\"../assets/stop.png\" width=\"150\" height=\"150\" style=\"display: block;\" />\n",
    "        </td>\n",
    "        <td>\n",
    "            <h2 style=\"color:#ff7800;\">Are you ready for action??</h2>\n",
    "            <span style=\"color:#ff7800;\">Have you completed all the setup steps in the <a href=\"../setup/\">setup</a> folder?<br/>\n",
    "            Have you checked out the guides in the <a href=\"../guides/01_intro.ipynb\">guides</a> folder?<br/>\n",
    "            Well in that case, you're ready!!\n",
    "            </span>\n",
    "        </td>\n",
    "    </tr>\n",
    "</table>"
   ]
  },
  {
   "cell_type": "markdown",
   "metadata": {},
   "source": [
    "<table style=\"margin: 0; text-align: left; width:100%\">\n",
    "    <tr>\n",
    "        <td style=\"width: 150px; height: 150px; vertical-align: middle;\">\n",
    "            <img src=\"../assets/tools.png\" width=\"150\" height=\"150\" style=\"display: block;\" />\n",
    "        </td>\n",
    "        <td>\n",
    "            <h2 style=\"color:#00bfff;\">This code is a live resource - keep an eye out for my updates</h2>\n",
    "            <span style=\"color:#00bfff;\">I push updates regularly. As people ask questions or have problems, I add more examples and improve explanations. As a result, the code below might not be identical to the videos, as I've added more steps and better comments. Consider this like an interactive book that accompanies the lectures.<br/><br/>\n",
    "            I try to send emails regularly with important updates related to the course. You can find this in the 'Announcements' section of Udemy in the left sidebar. You can also choose to receive my emails via your Notification Settings in Udemy. I'm respectful of your inbox and always try to add value with my emails!\n",
    "            </span>\n",
    "        </td>\n",
    "    </tr>\n",
    "</table>"
   ]
  },
  {
   "cell_type": "markdown",
   "metadata": {},
   "source": [
    "### And please do remember to contact me if I can help\n",
    "\n",
    "And I love to connect: https://www.linkedin.com/in/eddonner/\n",
    "\n",
    "\n",
    "### New to Notebooks like this one? Head over to the guides folder!\n",
    "\n",
    "Just to check you've already added the Python and Jupyter extensions to Cursor, if not already installed:\n",
    "- Open extensions (View >> extensions)\n",
    "- Search for python, and when the results show, click on the ms-python one, and Install it if not already installed\n",
    "- Search for jupyter, and when the results show, click on the Microsoft one, and Install it if not already installed  \n",
    "Then View >> Explorer to bring back the File Explorer.\n",
    "\n",
    "And then:\n",
    "1. Click where it says \"Select Kernel\" near the top right, and select the option called `.venv (Python 3.12.9)` or similar, which should be the first choice or the most prominent choice. You may need to choose \"Python Environments\" first.\n",
    "2. Click in each \"cell\" below, starting with the cell immediately below this text, and press Shift+Enter to run\n",
    "3. Enjoy!\n",
    "\n",
    "After you click \"Select Kernel\", if there is no option like `.venv (Python 3.12.9)` then please do the following:  \n",
    "1. On Mac: From the Cursor menu, choose Settings >> VS Code Settings (NOTE: be sure to select `VSCode Settings` not `Cursor Settings`);  \n",
    "On Windows PC: From the File menu, choose Preferences >> VS Code Settings(NOTE: be sure to select `VSCode Settings` not `Cursor Settings`)  \n",
    "2. In the Settings search bar, type \"venv\"  \n",
    "3. In the field \"Path to folder with a list of Virtual Environments\" put the path to the project root, like C:\\Users\\username\\projects\\agents (on a Windows PC) or /Users/username/projects/agents (on Mac or Linux).  \n",
    "And then try again.\n",
    "\n",
    "Having problems with missing Python versions in that list? Have you ever used Anaconda before? It might be interferring. Quit Cursor, bring up a new command line, and make sure that your Anaconda environment is deactivated:    \n",
    "`conda deactivate`  \n",
    "And if you still have any problems with conda and python versions, it's possible that you will need to run this too:  \n",
    "`conda config --set auto_activate_base false`  \n",
    "and then from within the Agents directory, you should be able to run `uv python list` and see the Python 3.12 version."
   ]
  },
  {
   "cell_type": "code",
   "execution_count": 1,
   "metadata": {},
   "outputs": [],
   "source": [
    "# First let's do an import\n",
    "from dotenv import load_dotenv\n"
   ]
  },
  {
   "cell_type": "code",
   "execution_count": 2,
   "metadata": {},
   "outputs": [
    {
     "data": {
      "text/plain": [
       "True"
      ]
     },
     "execution_count": 2,
     "metadata": {},
     "output_type": "execute_result"
    }
   ],
   "source": [
    "# Next it's time to load the API keys into environment variables\n",
    "\n",
    "load_dotenv(override=True)"
   ]
  },
  {
   "cell_type": "code",
   "execution_count": 3,
   "metadata": {},
   "outputs": [
    {
     "name": "stdout",
     "output_type": "stream",
     "text": [
      "OpenAI API Key exists and begins sk-proj-\n"
     ]
    }
   ],
   "source": [
    "# Check the keys\n",
    "\n",
    "import os\n",
    "openai_api_key = os.getenv('OPENAI_API_KEY')\n",
    "\n",
    "if openai_api_key:\n",
    "    print(f\"OpenAI API Key exists and begins {openai_api_key[:8]}\")\n",
    "else:\n",
    "    print(\"OpenAI API Key not set - please head to the troubleshooting guide in the setup folder\")\n",
    "    \n"
   ]
  },
  {
   "cell_type": "code",
   "execution_count": 4,
   "metadata": {},
   "outputs": [],
   "source": [
    "# And now - the all important import statement\n",
    "# If you get an import error - head over to troubleshooting guide\n",
    "\n",
    "from openai import OpenAI"
   ]
  },
  {
   "cell_type": "code",
   "execution_count": 5,
   "metadata": {},
   "outputs": [],
   "source": [
    "# And now we'll create an instance of the OpenAI class\n",
    "# If you're not sure what it means to create an instance of a class - head over to the guides folder!\n",
    "# If you get a NameError - head over to the guides folder to learn about NameErrors\n",
    "\n",
    "openai = OpenAI()"
   ]
  },
  {
   "cell_type": "code",
   "execution_count": 6,
   "metadata": {},
   "outputs": [],
   "source": [
    "# Create a list of messages in the familiar OpenAI format\n",
    "\n",
    "messages = [{\"role\": \"user\", \"content\": \"What is 2+2?\"}]"
   ]
  },
  {
   "cell_type": "code",
   "execution_count": 7,
   "metadata": {},
   "outputs": [
    {
     "name": "stdout",
     "output_type": "stream",
     "text": [
      "2 + 2 equals 4.\n"
     ]
    }
   ],
   "source": [
    "# And now call it! Any problems, head to the troubleshooting guide\n",
    "# This uses GPT 4.1 nano, the incredibly cheap model\n",
    "\n",
    "response = openai.chat.completions.create(\n",
    "    model=\"gpt-4.1-nano\",\n",
    "    messages=messages\n",
    ")\n",
    "\n",
    "print(response.choices[0].message.content)\n"
   ]
  },
  {
   "cell_type": "code",
   "execution_count": 8,
   "metadata": {},
   "outputs": [],
   "source": [
    "# And now - let's ask for a question:\n",
    "\n",
    "question = \"Please propose a hard, challenging question to assess someone's IQ. Respond only with the question.\"\n",
    "messages = [{\"role\": \"user\", \"content\": question}]\n"
   ]
  },
  {
   "cell_type": "code",
   "execution_count": 9,
   "metadata": {},
   "outputs": [
    {
     "name": "stdout",
     "output_type": "stream",
     "text": [
      "If two trains start from the same point and travel in opposite directions, one at 60 mph and the other at 80 mph, how long will it take for the distance between them to be 420 miles? Now, if a third train starts from the first train’s starting point 30 minutes later and travels toward the second train at 90 mph, how long after the first trains start will the third train meet the second train?\n"
     ]
    }
   ],
   "source": [
    "# ask it - this uses GPT 4.1 mini, still cheap but more powerful than nano\n",
    "\n",
    "response = openai.chat.completions.create(\n",
    "    model=\"gpt-4.1-mini\",\n",
    "    messages=messages\n",
    ")\n",
    "\n",
    "question = response.choices[0].message.content\n",
    "\n",
    "print(question)\n"
   ]
  },
  {
   "cell_type": "code",
   "execution_count": 10,
   "metadata": {},
   "outputs": [],
   "source": [
    "# form a new messages list\n",
    "messages = [{\"role\": \"user\", \"content\": question}]\n"
   ]
  },
  {
   "cell_type": "code",
   "execution_count": 11,
   "metadata": {},
   "outputs": [
    {
     "name": "stdout",
     "output_type": "stream",
     "text": [
      "Let's analyze the problem step-by-step.\n",
      "\n",
      "---\n",
      "\n",
      "### Part 1: Two trains moving in opposite directions\n",
      "\n",
      "- Train A speed = 60 mph\n",
      "- Train B speed = 80 mph\n",
      "- They start at the same point and travel in opposite directions.\n",
      "\n",
      "**Question:** How long until the distance between them is 420 miles?\n",
      "\n",
      "---\n",
      "\n",
      "**Step 1:** When two objects move in opposite directions, their speeds add up (relative speed).\n",
      "\n",
      "Relative speed = 60 mph + 80 mph = 140 mph\n",
      "\n",
      "**Step 2:** Time to be 420 miles apart\n",
      "\n",
      "\\[\n",
      "\\text{Time} = \\frac{\\text{Distance}}{\\text{Relative speed}} = \\frac{420}{140} = 3 \\text{ hours}\n",
      "\\]\n",
      "\n",
      "---\n",
      "\n",
      "### Part 2: Third train starts 30 minutes later from the first train’s starting point and travels toward the second train at 90 mph.\n",
      "\n",
      "- Third train speed = 90 mph\n",
      "- Third train starts after 0.5 hours (30 minutes)\n",
      "- Question: After how long from the start (time 0) will the third train meet the second train?\n",
      "\n",
      "---\n",
      "\n",
      "**Step 1:** Positions of trains after time t (in hours from the initial start):\n",
      "\n",
      "- Train A position at time t:  \n",
      "  \\( x_A(t) = 60 \\times t \\) (to the right)\n",
      "  \n",
      "- Train B position at time t:  \n",
      "  \\( x_B(t) = -80 \\times t \\) (to the left)\n",
      "\n",
      "The starting point is at position 0.\n",
      "\n",
      "---\n",
      "\n",
      "**Step 2:** Since the third train starts 0.5 hours later from the origin and moves toward Train B (to the left) at 90 mph, its position at time t after the first trains start is:\n",
      "\n",
      "Let \\( t \\) be the time since the first trains started.\n",
      "\n",
      "Third train has been moving for \\( t - 0.5 \\) hours (only if \\( t \\geq 0.5 \\)):\n",
      "\n",
      "\\[\n",
      "x_3(t) = 0 - 90 (t - 0.5) = -90 (t - 0.5)\n",
      "\\]\n",
      "\n",
      "---\n",
      "\n",
      "**Step 3:** The third train meets the second train when their positions are the same:\n",
      "\n",
      "\\[\n",
      "x_3(t) = x_B(t)\n",
      "\\]\n",
      "\n",
      "\\[\n",
      "-90 (t - 0.5) = -80 t\n",
      "\\]\n",
      "\n",
      "Multiply both sides to remove negatives:\n",
      "\n",
      "\\[\n",
      "90 (t - 0.5) = 80 t\n",
      "\\]\n",
      "\n",
      "\\[\n",
      "90 t - 45 = 80 t\n",
      "\\]\n",
      "\n",
      "\\[\n",
      "90 t - 80 t = 45\n",
      "\\]\n",
      "\n",
      "\\[\n",
      "10 t = 45\n",
      "\\]\n",
      "\n",
      "\\[\n",
      "t = 4.5 \\text{ hours}\n",
      "\\]\n",
      "\n",
      "---\n",
      "\n",
      "### Final answers:\n",
      "\n",
      "- Time for first two trains to be 420 miles apart: **3 hours**\n",
      "- Time from first trains start until third train meets the second train: **4.5 hours**\n",
      "\n",
      "---\n",
      "\n",
      "If you want, I can also find the position where the third train meets the second train!\n"
     ]
    }
   ],
   "source": [
    "# Ask it again\n",
    "\n",
    "response = openai.chat.completions.create(\n",
    "    model=\"gpt-4.1-mini\",\n",
    "    messages=messages\n",
    ")\n",
    "\n",
    "answer = response.choices[0].message.content\n",
    "print(answer)\n"
   ]
  },
  {
   "cell_type": "code",
   "execution_count": 12,
   "metadata": {},
   "outputs": [
    {
     "data": {
      "text/markdown": [
       "Let's analyze the problem step-by-step.\n",
       "\n",
       "---\n",
       "\n",
       "### Part 1: Two trains moving in opposite directions\n",
       "\n",
       "- Train A speed = 60 mph\n",
       "- Train B speed = 80 mph\n",
       "- They start at the same point and travel in opposite directions.\n",
       "\n",
       "**Question:** How long until the distance between them is 420 miles?\n",
       "\n",
       "---\n",
       "\n",
       "**Step 1:** When two objects move in opposite directions, their speeds add up (relative speed).\n",
       "\n",
       "Relative speed = 60 mph + 80 mph = 140 mph\n",
       "\n",
       "**Step 2:** Time to be 420 miles apart\n",
       "\n",
       "\\[\n",
       "\\text{Time} = \\frac{\\text{Distance}}{\\text{Relative speed}} = \\frac{420}{140} = 3 \\text{ hours}\n",
       "\\]\n",
       "\n",
       "---\n",
       "\n",
       "### Part 2: Third train starts 30 minutes later from the first train’s starting point and travels toward the second train at 90 mph.\n",
       "\n",
       "- Third train speed = 90 mph\n",
       "- Third train starts after 0.5 hours (30 minutes)\n",
       "- Question: After how long from the start (time 0) will the third train meet the second train?\n",
       "\n",
       "---\n",
       "\n",
       "**Step 1:** Positions of trains after time t (in hours from the initial start):\n",
       "\n",
       "- Train A position at time t:  \n",
       "  \\( x_A(t) = 60 \\times t \\) (to the right)\n",
       "  \n",
       "- Train B position at time t:  \n",
       "  \\( x_B(t) = -80 \\times t \\) (to the left)\n",
       "\n",
       "The starting point is at position 0.\n",
       "\n",
       "---\n",
       "\n",
       "**Step 2:** Since the third train starts 0.5 hours later from the origin and moves toward Train B (to the left) at 90 mph, its position at time t after the first trains start is:\n",
       "\n",
       "Let \\( t \\) be the time since the first trains started.\n",
       "\n",
       "Third train has been moving for \\( t - 0.5 \\) hours (only if \\( t \\geq 0.5 \\)):\n",
       "\n",
       "\\[\n",
       "x_3(t) = 0 - 90 (t - 0.5) = -90 (t - 0.5)\n",
       "\\]\n",
       "\n",
       "---\n",
       "\n",
       "**Step 3:** The third train meets the second train when their positions are the same:\n",
       "\n",
       "\\[\n",
       "x_3(t) = x_B(t)\n",
       "\\]\n",
       "\n",
       "\\[\n",
       "-90 (t - 0.5) = -80 t\n",
       "\\]\n",
       "\n",
       "Multiply both sides to remove negatives:\n",
       "\n",
       "\\[\n",
       "90 (t - 0.5) = 80 t\n",
       "\\]\n",
       "\n",
       "\\[\n",
       "90 t - 45 = 80 t\n",
       "\\]\n",
       "\n",
       "\\[\n",
       "90 t - 80 t = 45\n",
       "\\]\n",
       "\n",
       "\\[\n",
       "10 t = 45\n",
       "\\]\n",
       "\n",
       "\\[\n",
       "t = 4.5 \\text{ hours}\n",
       "\\]\n",
       "\n",
       "---\n",
       "\n",
       "### Final answers:\n",
       "\n",
       "- Time for first two trains to be 420 miles apart: **3 hours**\n",
       "- Time from first trains start until third train meets the second train: **4.5 hours**\n",
       "\n",
       "---\n",
       "\n",
       "If you want, I can also find the position where the third train meets the second train!"
      ],
      "text/plain": [
       "<IPython.core.display.Markdown object>"
      ]
     },
     "metadata": {},
     "output_type": "display_data"
    }
   ],
   "source": [
    "from IPython.display import Markdown, display\n",
    "\n",
    "display(Markdown(answer))\n",
    "\n"
   ]
  },
  {
   "cell_type": "markdown",
   "metadata": {},
   "source": [
    "# Congratulations!\n",
    "\n",
    "That was a small, simple step in the direction of Agentic AI, with your new environment!\n",
    "\n",
    "Next time things get more interesting..."
   ]
  },
  {
   "cell_type": "markdown",
   "metadata": {},
   "source": [
    "<table style=\"margin: 0; text-align: left; width:100%\">\n",
    "    <tr>\n",
    "        <td style=\"width: 150px; height: 150px; vertical-align: middle;\">\n",
    "            <img src=\"../assets/exercise.png\" width=\"150\" height=\"150\" style=\"display: block;\" />\n",
    "        </td>\n",
    "        <td>\n",
    "            <h2 style=\"color:#ff7800;\">Exercise</h2>\n",
    "            <span style=\"color:#ff7800;\">Now try this commercial application:<br/>\n",
    "            First ask the LLM to pick a business area that might be worth exploring for an Agentic AI opportunity.<br/>\n",
    "            Then ask the LLM to present a pain-point in that industry - something challenging that might be ripe for an Agentic solution.<br/>\n",
    "            Finally have 3 third LLM call propose the Agentic AI solution.\n",
    "            </span>\n",
    "        </td>\n",
    "    </tr>\n",
    "</table>"
   ]
  },
  {
   "cell_type": "code",
   "execution_count": 14,
   "metadata": {},
   "outputs": [
    {
     "name": "stdout",
     "output_type": "stream",
     "text": [
      "One promising business area for an Agentic AI opportunity is **supply chain optimization and management**.\n",
      "\n",
      "### Why Supply Chain Optimization?\n",
      "\n",
      "- **Complex, Dynamic Environment:** Supply chains involve numerous variables—inventory levels, demand fluctuations, supplier performance, transportation logistics—that change rapidly and require continuous adjustment.\n",
      "- **High Impact:** Improvements in efficiency can translate into significant cost savings, faster delivery times, and better customer satisfaction.\n",
      "- **Automation Potential:** Agentic AI can take initiative by autonomously analyzing data, predicting disruptions, negotiating with suppliers, and dynamically adjusting orders or routes.\n",
      "- **Scalability:** These AI agents can scale across multiple industries, including retail, manufacturing, pharmaceuticals, and food distribution.\n",
      "- **Integration with IoT:** Combined with real-time sensor data (e.g., from warehouses or shipments), Agentic AI can proactively respond to issues such as delays or temperature deviations.\n",
      "\n",
      "### Example Use Cases\n",
      "\n",
      "- An AI agent that monitors inventory and sales trends, autonomously places orders with suppliers, and reroutes shipments as needed to prevent stockouts or overstock.\n",
      "- An AI system that negotiates contracts and pricing with vendors in real time based on supply-demand forecasts.\n",
      "- Autonomous optimization of delivery routes considering traffic, weather, and vehicle availability.\n",
      "\n",
      "### Conclusion\n",
      "\n",
      "Agentic AI in supply chain optimization offers a rich space for innovation where AI can proactively manage complex processes, delivering measurable business value by reducing costs and improving reliability.\n"
     ]
    }
   ],
   "source": [
    "# First create the messages:\n",
    "\n",
    "messages = [{\"role\": \"user\", \"content\": \"Pick a business area that might be worth exploring for an Agentic AI opportunity.\"}]\n",
    "\n",
    "# Then make the first call:\n",
    "\n",
    "response = openai.chat.completions.create(\n",
    "    model=\"gpt-4.1-mini\",\n",
    "    messages=messages\n",
    ")\n",
    "\n",
    "# Then read the business idea:\n",
    "\n",
    "business_idea = response.choices[0].message.content\n",
    "print(business_idea)\n",
    "\n",
    "\n",
    "\n",
    "\n",
    "# And repeat!\n",
    "\n"
   ]
  },
  {
   "cell_type": "code",
   "execution_count": 16,
   "metadata": {},
   "outputs": [
    {
     "name": "stdout",
     "output_type": "stream",
     "text": [
      "A major pain point in starting a business around supply chain optimization with Agentic AI is **data integration and quality**.\n",
      "\n",
      "### Why Data Integration and Quality is a Pain Point:\n",
      "\n",
      "- **Fragmented Data Sources:** Supply chains generate data from multiple disparate sources—ERP systems, supplier databases, logistics platforms, IoT sensors, and more—often using incompatible formats and standards.\n",
      "- **Lack of Real-Time, Accurate Data:** Effective agentic AI requires timely, precise, and clean data, but businesses often struggle with delayed, incomplete, or erroneous inputs.\n",
      "- **High Setup Complexity:** Integrating all these systems to feed AI agents reliably requires significant upfront engineering, custom APIs, and continuous maintenance, which can be costly and time-consuming.\n",
      "- **Security and Privacy Concerns:** Sensitive supply chain and vendor data need careful handling, adding regulatory and compliance hurdles.\n",
      "- **Change Management:** Stakeholders may resist sharing data or altering established workflows, limiting the AI’s effectiveness.\n",
      "\n",
      "### Addressing This Pain Point\n",
      "\n",
      "A promising approach is to develop an Agentic AI-powered **data integration and validation platform** specialized for supply chains. This platform could:\n",
      "\n",
      "- Automatically connect and normalize data streams from diverse supply chain systems.\n",
      "- Use AI to detect and correct anomalies or inconsistencies in real time.\n",
      "- Provide secure governance and access controls to protect vendor and customer data.\n",
      "- Deliver an easy-to-use interface for businesses to onboard data sources rapidly.\n",
      "- Continuously learn and adapt as new data patterns or systems emerge.\n",
      "\n",
      "By solving the foundational problem of reliable data integration and quality, Agentic AI solutions can unlock their full potential in automating and optimizing supply chain decisions. This offers a clear entry point for startups venturing into the supply chain AI space.\n"
     ]
    }
   ],
   "source": [
    "# And repeat!\n",
    "\n",
    "messages = [{\"role\": \"user\", \"content\": f\"Pick a pain point in starting business {business_idea}.\"}]\n",
    "\n",
    "# Then make the first call:\n",
    "\n",
    "response = openai.chat.completions.create(\n",
    "    model=\"gpt-4.1-mini\",\n",
    "    messages=messages\n",
    ")\n",
    "\n",
    "# Then read the business idea:\n",
    "\n",
    "pain_point = response.choices[0].message.content\n",
    "print(pain_point)"
   ]
  },
  {
   "cell_type": "code",
   "execution_count": 17,
   "metadata": {},
   "outputs": [
    {
     "name": "stdout",
     "output_type": "stream",
     "text": [
      "Certainly! Here is a detailed agentic solution proposal for supply chain optimization and management leveraging Agentic AI capabilities:\n",
      "\n",
      "---\n",
      "\n",
      "### Agentic AI Solution for Supply Chain Optimization and Management\n",
      "\n",
      "#### Overview:\n",
      "Develop an autonomous, multi-agent AI platform—**SupplyChainX**—that continuously manages and optimizes the end-to-end supply chain by dynamically making decisions, negotiating with partners, and responding to external disruptions in real-time.\n",
      "\n",
      "---\n",
      "\n",
      "### Core Components and Capabilities:\n",
      "\n",
      "1. **Data Integration Agent**\n",
      "   - Continuously ingests data from multiple sources:\n",
      "     - Internal: ERP systems, inventory databases, order management\n",
      "     - External: Supplier systems, logistics providers, weather/traffic APIs, IoT sensors (warehouse temp, shipment GPS, RFID)\n",
      "   - Cleans, normalizes, and timestamps data, creating a unified and up-to-date view of supply chain status.\n",
      "\n",
      "2. **Demand & Supply Forecasting Agent**\n",
      "   - Uses machine learning models to analyze historical sales, market trends, seasonality, and promotional events.\n",
      "   - Predicts short-term and long-term demand fluctuations.\n",
      "   - Estimates supplier lead times and performance variability.\n",
      "   - Continuously updates forecasts as new data arrives.\n",
      "\n",
      "3. **Inventory Optimization Agent**\n",
      "   - Optimizes inventory levels using demand forecasts and supplier reliability scores.\n",
      "   - Autonomously places purchase orders to suppliers, balancing stockout risks and holding costs.\n",
      "   - Decides on safety stock levels across warehouses and distribution centers.\n",
      "   \n",
      "4. **Negotiation and Procurement Agent**\n",
      "   - Engages with supplier agents or APIs to negotiate prices, delivery terms, and contract adjustments in real-time.\n",
      "   - Leverages predicted demand and supply constraints to secure favorable terms.\n",
      "   - Monitors supplier performance and dynamically adjusts contract conditions.\n",
      "\n",
      "5. **Logistics & Routing Agent**\n",
      "   - Monitors delivery vehicles, traffic, weather, and warehouse capacity.\n",
      "   - Dynamically plans and re-routes shipments to avoid delays, optimize load efficiency, and reduce transportation costs.\n",
      "   - Coordinates with transportation providers autonomously.\n",
      "\n",
      "6. **Risk and Disruption Management Agent**\n",
      "   - Detects early signs of supply disruptions via IoT sensors (e.g., temperature deviations, transport delays).\n",
      "   - Assesses the impact of external events (e.g., strikes, natural disasters).\n",
      "   - Triggers contingency plans such as alternative sourcing, expediting shipments, or adjusting production schedules.\n",
      "\n",
      "7. **User Interface & Alerting Agent**\n",
      "   - Provides dashboards showing real-time supply chain health metrics.\n",
      "   - Issues proactive alerts and recommendations to human managers.\n",
      "   - Accepts high-level strategic inputs and constraints from human operators.\n",
      "\n",
      "---\n",
      "\n",
      "### Key Agent Interactions:\n",
      "\n",
      "- **Collaboration & Hierarchy:** Agents communicate via internal messaging protocols. For example, the Demand Forecasting Agent informs Inventory Optimization and Negotiation Agents to proactively plan purchases.\n",
      "- **Autonomy with Oversight:** Agents operate autonomously but seek human approval for high-impact decisions or exceptions through the User Interface Agent.\n",
      "- **Learning from Feedback:** Agents use reinforcement learning to improve decisions based on outcome feedback (e.g., supplier reliability, forecast accuracy).\n",
      "\n",
      "---\n",
      "\n",
      "### Benefits:\n",
      "\n",
      "- **Cost Savings:** Reduced emergency orders and excess inventory; optimized transportation routes.\n",
      "- **Improved Responsiveness:** Quickly adapts to sudden demand spikes or supply interruptions.\n",
      "- **Scalability:** Platform can be deployed across multiple sites, locations, and industries with minimal customization.\n",
      "- **Sustainability:** Optimized logistics reduce emissions from unnecessary shipping and warehousing.\n",
      "\n",
      "---\n",
      "\n",
      "### Example Scenario:\n",
      "\n",
      "1. The Forecasting Agent detects an unexpected surge in demand for a product line.\n",
      "2. Inventory Agent evaluates current stock and triggers purchase orders early.\n",
      "3. Negotiation Agent initiates dynamic talks with vendors for faster delivery and better pricing.\n",
      "4. Logistics Agent reroutes shipments around a traffic jam detected via real-time data.\n",
      "5. Risk Agent, notified of severe weather at a key supplier location, preemptively finds alternative suppliers and routes.\n",
      "6. Managers receive summarized alerts and approvals through the User Interface Agent.\n",
      "\n",
      "---\n",
      "\n",
      "### Conclusion:\n",
      "\n",
      "An agentic, autonomous supply chain AI platform like **SupplyChainX** can provide continuous, intelligent orchestration of complex supply networks. By blending forecasting, negotiation, real-time logistics optimization, and risk mitigation, agentic AI can deliver substantial efficiency gains, resiliency, and cost reductions—transforming supply chain management into an adaptive, self-optimizing system.\n",
      "\n",
      "---\n",
      "\n",
      "If you want, I can also outline technical architectures, algorithms, or a phased roadmap for developing this solution!\n"
     ]
    }
   ],
   "source": [
    "messages = [{\"role\": \"user\", \"content\": f\"Propose an agentic solution for: {business_idea}.\"}]\n",
    "\n",
    "# Then make the first call:\n",
    "\n",
    "response = openai.chat.completions.create(\n",
    "    model=\"gpt-4.1-mini\",\n",
    "    messages=messages\n",
    ")\n",
    "\n",
    "# Then read the business idea:\n",
    "\n",
    "proposal = response.choices[0].message.content\n",
    "print(proposal)"
   ]
  },
  {
   "cell_type": "code",
   "execution_count": null,
   "metadata": {},
   "outputs": [],
   "source": []
  }
 ],
 "metadata": {
  "kernelspec": {
   "display_name": ".venv",
   "language": "python",
   "name": "python3"
  },
  "language_info": {
   "codemirror_mode": {
    "name": "ipython",
    "version": 3
   },
   "file_extension": ".py",
   "mimetype": "text/x-python",
   "name": "python",
   "nbconvert_exporter": "python",
   "pygments_lexer": "ipython3",
   "version": "3.12.3"
  }
 },
 "nbformat": 4,
 "nbformat_minor": 2
}
