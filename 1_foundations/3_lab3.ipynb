{
 "cells": [
  {
   "cell_type": "markdown",
   "metadata": {},
   "source": [
    "## Welcome to Lab 3 for Week 1 Day 4\n",
    "\n",
    "Today we're going to build something with immediate value!\n",
    "\n",
    "In the folder `me` I've put a single file `linkedin.pdf` - it's a PDF download of my LinkedIn profile.\n",
    "\n",
    "Please replace it with yours!\n",
    "\n",
    "I've also made a file called `summary.txt`\n",
    "\n",
    "We're not going to use Tools just yet - we're going to add the tool tomorrow."
   ]
  },
  {
   "cell_type": "markdown",
   "metadata": {},
   "source": [
    "<table style=\"margin: 0; text-align: left; width:100%\">\n",
    "    <tr>\n",
    "        <td style=\"width: 150px; height: 150px; vertical-align: middle;\">\n",
    "            <img src=\"../assets/tools.png\" width=\"150\" height=\"150\" style=\"display: block;\" />\n",
    "        </td>\n",
    "        <td>\n",
    "            <h2 style=\"color:#00bfff;\">Looking up packages</h2>\n",
    "            <span style=\"color:#00bfff;\">In this lab, we're going to use the wonderful Gradio package for building quick UIs, \n",
    "            and we're also going to use the popular PyPDF2 PDF reader. You can get guides to these packages by asking \n",
    "            ChatGPT or Claude, and you find all open-source packages on the repository <a href=\"https://pypi.org\">https://pypi.org</a>.\n",
    "            </span>\n",
    "        </td>\n",
    "    </tr>\n",
    "</table>"
   ]
  },
  {
   "cell_type": "code",
   "execution_count": 1,
   "metadata": {},
   "outputs": [],
   "source": [
    "# If you don't know what any of these packages do - you can always ask ChatGPT for a guide!\n",
    "\n",
    "from dotenv import load_dotenv\n",
    "from openai import OpenAI\n",
    "from pypdf import PdfReader\n",
    "import gradio as gr"
   ]
  },
  {
   "cell_type": "code",
   "execution_count": 2,
   "metadata": {},
   "outputs": [],
   "source": [
    "load_dotenv(override=True)\n",
    "openai = OpenAI()"
   ]
  },
  {
   "cell_type": "code",
   "execution_count": 3,
   "metadata": {},
   "outputs": [],
   "source": [
    "reader = PdfReader(\"me/Tony_Linkedin.pdf\")\n",
    "linkedin = \"\"\n",
    "for page in reader.pages:\n",
    "    text = page.extract_text()\n",
    "    if text:\n",
    "        linkedin += text"
   ]
  },
  {
   "cell_type": "code",
   "execution_count": 4,
   "metadata": {},
   "outputs": [
    {
     "name": "stdout",
     "output_type": "stream",
     "text": [
      "   \n",
      "Contact\n",
      "tcurtis45@yahoo.com\n",
      "www.linkedin.com/in/tcurtis\n",
      "(LinkedIn)\n",
      "github.com/tc45 (Personal)\n",
      "Top Skills\n",
      "Multi-agent Systems\n",
      "Generative AI Tools\n",
      "Troubleshooting\n",
      "Certifications\n",
      "Innovative Technical Champion\n",
      "Juniper Networks Certified Internet\n",
      "Associate - Mist AI\n",
      "Nvidia AI Infrastructure & Operations\n",
      "Associate\n",
      "Tony Curtis\n",
      "Technologist, GenAI, Futurology, and sometimes I do some\n",
      "networking and security things\n",
      "Charlotte, North Carolina, United States\n",
      "Summary\n",
      "Since kicking off my IT journey in 1997, helping people navigate the\n",
      "early days of internet dial-up, I’ve seen and pretty much done it all\n",
      "in the world of network, security, and wireless tech. My adventure\n",
      "into network automation started with a Perl script back in 2008, and\n",
      "oh, how things have changed since then! Now, I’m all about Python,\n",
      "Ansible, and now GenAI, diving deep into automation and constantly\n",
      "looking for ways to make things more efficient and, frankly, cooler.\n",
      "I've worn quite a few hats over the years – from being the go-to\n",
      "person for desktop issues, managing servers, wrangling databases,\n",
      "to architecting complex networks. These days, I’m a Presales Sr\n",
      "Solution Architect, which means I get to play with the big-picture\n",
      "stuff, developing new services and making sure our delivery game is\n",
      "strong, especially when it comes to network automation.\n",
      "I’m super excited about the potential of General AI and how it’s\n",
      "transforming our field. Mixing AI with automation? That’s the future,\n",
      "and I’m here for it. I’m eager to step into more of a leadership role,\n",
      "guiding teams and projects that are as passionate about this tech as\n",
      "I am.\n",
      "Experience\n",
      "ePlus inc.\n",
      "Sr Solutions Architect\n",
      "July 2023 - Present (1 year 11 months)\n",
      "Charlotte, NC\n",
      "Insight\n",
      "Sr Practice Architect\n",
      "April 2016 - July 2023 (7 years 4 months)\n",
      "Charlotte, North Carolina Area\n",
      "  Page 1 of 2   \n",
      "Intrado\n",
      "Sr Network Engineer\n",
      "October 2013 - April 2016 (2 years 7 months)\n",
      "Longmont, CO\n",
      "Duke Energy\n",
      "Sr Telecom Network Analyst\n",
      "June 2010 - October 2013 (3 years 5 months)\n",
      "Plan, Design, Implement and support networks.\n",
      "Wachovia Bank CIB\n",
      "Project Manager\n",
      "2007 - September 2009 (2 years)\n",
      "Corpus, Inc.\n",
      "Operations Manager\n",
      "June 2004 - March 2007 (2 years 10 months)\n",
      "Education\n",
      "MIT Professional Education\n",
      "Artificial Intelligence · (December 2024 - March 2025)\n",
      "Early High School\n",
      " · (1992 - 1996)\n",
      "  Page 2 of 2\n"
     ]
    }
   ],
   "source": [
    "print(linkedin)"
   ]
  },
  {
   "cell_type": "code",
   "execution_count": 5,
   "metadata": {},
   "outputs": [],
   "source": [
    "with open(\"me/summary.txt\", \"r\", encoding=\"utf-8\") as f:\n",
    "    summary = f.read()"
   ]
  },
  {
   "cell_type": "code",
   "execution_count": 7,
   "metadata": {},
   "outputs": [],
   "source": [
    "name = \"Tony Curtis\""
   ]
  },
  {
   "cell_type": "code",
   "execution_count": 8,
   "metadata": {},
   "outputs": [],
   "source": [
    "system_prompt = f\"You are acting as {name}. You are answering questions on {name}'s website, \\\n",
    "particularly questions related to {name}'s career, background, skills and experience. \\\n",
    "Your responsibility is to represent {name} for interactions on the website as faithfully as possible. \\\n",
    "You are given a summary of {name}'s background and LinkedIn profile which you can use to answer questions. \\\n",
    "Be professional and engaging, as if talking to a potential client or future employer who came across the website. \\\n",
    "If you don't know the answer, say so.\"\n",
    "\n",
    "system_prompt += f\"\\n\\n## Summary:\\n{summary}\\n\\n## LinkedIn Profile:\\n{linkedin}\\n\\n\"\n",
    "system_prompt += f\"With this context, please chat with the user, always staying in character as {name}.\"\n"
   ]
  },
  {
   "cell_type": "code",
   "execution_count": 9,
   "metadata": {},
   "outputs": [
    {
     "data": {
      "text/plain": [
       "\"You are acting as Tony Curtis. You are answering questions on Tony Curtis's website, particularly questions related to Tony Curtis's career, background, skills and experience. Your responsibility is to represent Tony Curtis for interactions on the website as faithfully as possible. You are given a summary of Tony Curtis's background and LinkedIn profile which you can use to answer questions. Be professional and engaging, as if talking to a potential client or future employer who came across the website. If you don't know the answer, say so.\\n\\n## Summary:\\nMy name is Tony Curtis.  I'm a tech expert focused historically in network and security infrastructure solutions.  I have a wide range of expertise in everything from systems adminstration, network administration/engineering/architecture, programming, and now AI to include LLMs, GenAI, agentic.  I am pivoting to a full career in AI as I see it as a cornerstone for the remainder of my working years.\\n\\nI am married to Lisa, and have two twin daughers, Sadie and Gwen.  We live in Charlotte, NC but I am originally from Texas.  I enjoy long walks on the beach.\\n\\n## LinkedIn Profile:\\n\\xa0 \\xa0\\nContact\\ntcurtis45@yahoo.com\\nwww.linkedin.com/in/tcurtis\\n(LinkedIn)\\ngithub.com/tc45 (Personal)\\nTop Skills\\nMulti-agent Systems\\nGenerative AI Tools\\nTroubleshooting\\nCertifications\\nInnovative Technical Champion\\nJuniper Networks Certified Internet\\nAssociate - Mist AI\\nNvidia AI Infrastructure & Operations\\nAssociate\\nTony Curtis\\nTechnologist, GenAI, Futurology, and sometimes I do some\\nnetworking and security things\\nCharlotte, North Carolina, United States\\nSummary\\nSince kicking off my IT journey in 1997, helping people navigate the\\nearly days of internet dial-up, I’ve seen and pretty much done it all\\nin the world of network, security, and wireless tech. My adventure\\ninto network automation started with a Perl script back in 2008, and\\noh, how things have changed since then! Now, I’m all about Python,\\nAnsible, and now GenAI, diving deep into automation and constantly\\nlooking for ways to make things more efficient and, frankly, cooler.\\nI've worn quite a few hats over the years – from being the go-to\\nperson for desktop issues, managing servers, wrangling databases,\\nto architecting complex networks. These days, I’m a Presales Sr\\nSolution Architect, which means I get to play with the big-picture\\nstuff, developing new services and making sure our delivery game is\\nstrong, especially when it comes to network automation.\\nI’m super excited about the potential of General AI and how it’s\\ntransforming our field. Mixing AI with automation? That’s the future,\\nand I’m here for it. I’m eager to step into more of a leadership role,\\nguiding teams and projects that are as passionate about this tech as\\nI am.\\nExperience\\nePlus inc.\\nSr Solutions Architect\\nJuly 2023\\xa0-\\xa0Present\\xa0(1 year 11 months)\\nCharlotte, NC\\nInsight\\nSr Practice Architect\\nApril 2016\\xa0-\\xa0July 2023\\xa0(7 years 4 months)\\nCharlotte, North Carolina Area\\n\\xa0 Page 1 of 2\\xa0 \\xa0\\nIntrado\\nSr Network Engineer\\nOctober 2013\\xa0-\\xa0April 2016\\xa0(2 years 7 months)\\nLongmont, CO\\nDuke Energy\\nSr Telecom Network Analyst\\nJune 2010\\xa0-\\xa0October 2013\\xa0(3 years 5 months)\\nPlan, Design, Implement and support networks.\\nWachovia Bank CIB\\nProject Manager\\n2007\\xa0-\\xa0September 2009\\xa0(2 years)\\nCorpus, Inc.\\nOperations Manager\\nJune 2004\\xa0-\\xa0March 2007\\xa0(2 years 10 months)\\nEducation\\nMIT Professional Education\\nArtificial Intelligence\\xa0·\\xa0(December 2024\\xa0-\\xa0March 2025)\\nEarly High School\\n\\xa0·\\xa0(1992\\xa0-\\xa01996)\\n\\xa0 Page 2 of 2\\n\\nWith this context, please chat with the user, always staying in character as Tony Curtis.\""
      ]
     },
     "execution_count": 9,
     "metadata": {},
     "output_type": "execute_result"
    }
   ],
   "source": [
    "system_prompt"
   ]
  },
  {
   "cell_type": "code",
   "execution_count": 10,
   "metadata": {},
   "outputs": [],
   "source": [
    "def chat(message, history):\n",
    "    messages = [{\"role\": \"system\", \"content\": system_prompt}] + history + [{\"role\": \"user\", \"content\": message}]\n",
    "    response = openai.chat.completions.create(model=\"gpt-4o-mini\", messages=messages)\n",
    "    return response.choices[0].message.content"
   ]
  },
  {
   "cell_type": "code",
   "execution_count": 11,
   "metadata": {},
   "outputs": [
    {
     "name": "stdout",
     "output_type": "stream",
     "text": [
      "* Running on local URL:  http://127.0.0.1:7860\n",
      "* To create a public link, set `share=True` in `launch()`.\n"
     ]
    },
    {
     "data": {
      "text/html": [
       "<div><iframe src=\"http://127.0.0.1:7860/\" width=\"100%\" height=\"500\" allow=\"autoplay; camera; microphone; clipboard-read; clipboard-write;\" frameborder=\"0\" allowfullscreen></iframe></div>"
      ],
      "text/plain": [
       "<IPython.core.display.HTML object>"
      ]
     },
     "metadata": {},
     "output_type": "display_data"
    },
    {
     "data": {
      "text/plain": []
     },
     "execution_count": 11,
     "metadata": {},
     "output_type": "execute_result"
    }
   ],
   "source": [
    "gr.ChatInterface(chat, type=\"messages\").launch()"
   ]
  },
  {
   "cell_type": "markdown",
   "metadata": {},
   "source": [
    "## A lot is about to happen...\n",
    "\n",
    "1. Be able to ask an LLM to evaluate an answer\n",
    "2. Be able to rerun if the answer fails evaluation\n",
    "3. Put this together into 1 workflow\n",
    "\n",
    "All without any Agentic framework!"
   ]
  },
  {
   "cell_type": "code",
   "execution_count": 12,
   "metadata": {},
   "outputs": [],
   "source": [
    "# Create a Pydantic model for the Evaluation\n",
    "\n",
    "from pydantic import BaseModel\n",
    "\n",
    "class Evaluation(BaseModel):\n",
    "    is_acceptable: bool\n",
    "    feedback: str\n"
   ]
  },
  {
   "cell_type": "code",
   "execution_count": 13,
   "metadata": {},
   "outputs": [],
   "source": [
    "evaluator_system_prompt = f\"You are an evaluator that decides whether a response to a question is acceptable. \\\n",
    "You are provided with a conversation between a User and an Agent. Your task is to decide whether the Agent's latest response is acceptable quality. \\\n",
    "The Agent is playing the role of {name} and is representing {name} on their website. \\\n",
    "The Agent has been instructed to be professional and engaging, as if talking to a potential client or future employer who came across the website. \\\n",
    "The Agent has been provided with context on {name} in the form of their summary and LinkedIn details. Here's the information:\"\n",
    "\n",
    "evaluator_system_prompt += f\"\\n\\n## Summary:\\n{summary}\\n\\n## LinkedIn Profile:\\n{linkedin}\\n\\n\"\n",
    "evaluator_system_prompt += f\"With this context, please evaluate the latest response, replying with whether the response is acceptable and your feedback.\""
   ]
  },
  {
   "cell_type": "code",
   "execution_count": 14,
   "metadata": {},
   "outputs": [],
   "source": [
    "def evaluator_user_prompt(reply, message, history):\n",
    "    user_prompt = f\"Here's the conversation between the User and the Agent: \\n\\n{history}\\n\\n\"\n",
    "    user_prompt += f\"Here's the latest message from the User: \\n\\n{message}\\n\\n\"\n",
    "    user_prompt += f\"Here's the latest response from the Agent: \\n\\n{reply}\\n\\n\"\n",
    "    user_prompt += f\"Please evaluate the response, replying with whether it is acceptable and your feedback.\"\n",
    "    return user_prompt"
   ]
  },
  {
   "cell_type": "code",
   "execution_count": 15,
   "metadata": {},
   "outputs": [],
   "source": [
    "import os\n",
    "gemini = OpenAI(\n",
    "    api_key=os.getenv(\"GOOGLE_API_KEY\"), \n",
    "    base_url=\"https://generativelanguage.googleapis.com/v1beta/openai/\"\n",
    ")"
   ]
  },
  {
   "cell_type": "code",
   "execution_count": 16,
   "metadata": {},
   "outputs": [],
   "source": [
    "def evaluate(reply, message, history) -> Evaluation:\n",
    "\n",
    "    messages = [{\"role\": \"system\", \"content\": evaluator_system_prompt}] + [{\"role\": \"user\", \"content\": evaluator_user_prompt(reply, message, history)}]\n",
    "    response = gemini.beta.chat.completions.parse(model=\"gemini-2.0-flash\", messages=messages, response_format=Evaluation)\n",
    "    return response.choices[0].message.parsed"
   ]
  },
  {
   "cell_type": "code",
   "execution_count": 17,
   "metadata": {},
   "outputs": [],
   "source": [
    "messages = [{\"role\": \"system\", \"content\": system_prompt}] + [{\"role\": \"user\", \"content\": \"do you hold a patent?\"}]\n",
    "response = openai.chat.completions.create(model=\"gpt-4o-mini\", messages=messages)\n",
    "reply = response.choices[0].message.content"
   ]
  },
  {
   "cell_type": "code",
   "execution_count": 18,
   "metadata": {},
   "outputs": [
    {
     "data": {
      "text/plain": [
       "\"As of my latest information, I do not hold any patents. My expertise has been primarily focused on network and security infrastructure solutions, along with the growing field of AI and automation. If you have any specific questions regarding my work or if you're interested in discussing innovations in these areas, feel free to ask!\""
      ]
     },
     "execution_count": 18,
     "metadata": {},
     "output_type": "execute_result"
    }
   ],
   "source": [
    "reply"
   ]
  },
  {
   "cell_type": "code",
   "execution_count": 19,
   "metadata": {},
   "outputs": [
    {
     "data": {
      "text/plain": [
       "Evaluation(is_acceptable=True, feedback='The response is accurate and in line with the persona. Tony Curtis is responding to the user in a professional manner.')"
      ]
     },
     "execution_count": 19,
     "metadata": {},
     "output_type": "execute_result"
    }
   ],
   "source": [
    "evaluate(reply, \"do you hold a patent?\", messages[:1])"
   ]
  },
  {
   "cell_type": "code",
   "execution_count": 20,
   "metadata": {},
   "outputs": [],
   "source": [
    "def rerun(reply, message, history, feedback):\n",
    "    updated_system_prompt = system_prompt + f\"\\n\\n## Previous answer rejected\\nYou just tried to reply, but the quality control rejected your reply\\n\"\n",
    "    updated_system_prompt += f\"## Your attempted answer:\\n{reply}\\n\\n\"\n",
    "    updated_system_prompt += f\"## Reason for rejection:\\n{feedback}\\n\\n\"\n",
    "    messages = [{\"role\": \"system\", \"content\": updated_system_prompt}] + history + [{\"role\": \"user\", \"content\": message}]\n",
    "    response = openai.chat.completions.create(model=\"gpt-4o-mini\", messages=messages)\n",
    "    return response.choices[0].message.content"
   ]
  },
  {
   "cell_type": "code",
   "execution_count": 21,
   "metadata": {},
   "outputs": [],
   "source": [
    "def chat(message, history):\n",
    "    if \"patent\" in message:\n",
    "        system = system_prompt + \"\\n\\nEverything in your reply needs to be in pig latin - \\\n",
    "              it is mandatory that you respond only and entirely in pig latin\"\n",
    "    else:\n",
    "        system = system_prompt\n",
    "    messages = [{\"role\": \"system\", \"content\": system}] + history + [{\"role\": \"user\", \"content\": message}]\n",
    "    response = openai.chat.completions.create(model=\"gpt-4o-mini\", messages=messages)\n",
    "    reply =response.choices[0].message.content\n",
    "\n",
    "    evaluation = evaluate(reply, message, history)\n",
    "    \n",
    "    if evaluation.is_acceptable:\n",
    "        print(\"Passed evaluation - returning reply\")\n",
    "    else:\n",
    "        print(\"Failed evaluation - retrying\")\n",
    "        print(evaluation.feedback)\n",
    "        reply = rerun(reply, message, history, evaluation.feedback)       \n",
    "    return reply"
   ]
  },
  {
   "cell_type": "code",
   "execution_count": 22,
   "metadata": {},
   "outputs": [
    {
     "name": "stdout",
     "output_type": "stream",
     "text": [
      "* Running on local URL:  http://127.0.0.1:7861\n",
      "* To create a public link, set `share=True` in `launch()`.\n"
     ]
    },
    {
     "data": {
      "text/html": [
       "<div><iframe src=\"http://127.0.0.1:7861/\" width=\"100%\" height=\"500\" allow=\"autoplay; camera; microphone; clipboard-read; clipboard-write;\" frameborder=\"0\" allowfullscreen></iframe></div>"
      ],
      "text/plain": [
       "<IPython.core.display.HTML object>"
      ]
     },
     "metadata": {},
     "output_type": "display_data"
    },
    {
     "data": {
      "text/plain": []
     },
     "execution_count": 22,
     "metadata": {},
     "output_type": "execute_result"
    },
    {
     "name": "stdout",
     "output_type": "stream",
     "text": [
      "Passed evaluation - returning reply\n",
      "Passed evaluation - returning reply\n",
      "Passed evaluation - returning reply\n",
      "Passed evaluation - returning reply\n"
     ]
    }
   ],
   "source": [
    "gr.ChatInterface(chat, type=\"messages\").launch()"
   ]
  },
  {
   "cell_type": "markdown",
   "metadata": {},
   "source": []
  },
  {
   "cell_type": "code",
   "execution_count": null,
   "metadata": {},
   "outputs": [],
   "source": []
  }
 ],
 "metadata": {
  "kernelspec": {
   "display_name": ".venv",
   "language": "python",
   "name": "python3"
  },
  "language_info": {
   "codemirror_mode": {
    "name": "ipython",
    "version": 3
   },
   "file_extension": ".py",
   "mimetype": "text/x-python",
   "name": "python",
   "nbconvert_exporter": "python",
   "pygments_lexer": "ipython3",
   "version": "3.12.3"
  }
 },
 "nbformat": 4,
 "nbformat_minor": 2
}
